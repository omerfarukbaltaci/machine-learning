{
 "cells": [
  {
   "cell_type": "code",
   "execution_count": 1,
   "id": "82f515dc",
   "metadata": {
    "execution": {
     "iopub.execute_input": "2023-03-31T17:45:02.589356Z",
     "iopub.status.busy": "2023-03-31T17:45:02.588832Z",
     "iopub.status.idle": "2023-03-31T17:45:03.709444Z",
     "shell.execute_reply": "2023-03-31T17:45:03.708432Z"
    },
    "papermill": {
     "duration": 1.129311,
     "end_time": "2023-03-31T17:45:03.712373",
     "exception": false,
     "start_time": "2023-03-31T17:45:02.583062",
     "status": "completed"
    },
    "tags": []
   },
   "outputs": [],
   "source": [
    "from sklearn.datasets import load_iris\n",
    "from sklearn.linear_model import LinearRegression\n",
    "from sklearn.model_selection import KFold\n",
    "from sklearn.metrics import mean_squared_error\n",
    "import numpy as np"
   ]
  },
  {
   "cell_type": "code",
   "execution_count": 2,
   "id": "f79d6685",
   "metadata": {
    "execution": {
     "iopub.execute_input": "2023-03-31T17:45:03.718887Z",
     "iopub.status.busy": "2023-03-31T17:45:03.718502Z",
     "iopub.status.idle": "2023-03-31T17:45:03.726853Z",
     "shell.execute_reply": "2023-03-31T17:45:03.725823Z"
    },
    "papermill": {
     "duration": 0.014033,
     "end_time": "2023-03-31T17:45:03.729076",
     "exception": false,
     "start_time": "2023-03-31T17:45:03.715043",
     "status": "completed"
    },
    "tags": []
   },
   "outputs": [],
   "source": [
    "iris = load_iris()"
   ]
  },
  {
   "cell_type": "code",
   "execution_count": 3,
   "id": "e947edba",
   "metadata": {
    "execution": {
     "iopub.execute_input": "2023-03-31T17:45:03.735463Z",
     "iopub.status.busy": "2023-03-31T17:45:03.734783Z",
     "iopub.status.idle": "2023-03-31T17:45:03.739878Z",
     "shell.execute_reply": "2023-03-31T17:45:03.738754Z"
    },
    "papermill": {
     "duration": 0.011009,
     "end_time": "2023-03-31T17:45:03.742547",
     "exception": false,
     "start_time": "2023-03-31T17:45:03.731538",
     "status": "completed"
    },
    "tags": []
   },
   "outputs": [],
   "source": [
    "X, y = iris.data, iris.target"
   ]
  },
  {
   "cell_type": "code",
   "execution_count": 4,
   "id": "d6f8a553",
   "metadata": {
    "execution": {
     "iopub.execute_input": "2023-03-31T17:45:03.748952Z",
     "iopub.status.busy": "2023-03-31T17:45:03.748611Z",
     "iopub.status.idle": "2023-03-31T17:45:03.753511Z",
     "shell.execute_reply": "2023-03-31T17:45:03.752235Z"
    },
    "papermill": {
     "duration": 0.011008,
     "end_time": "2023-03-31T17:45:03.756005",
     "exception": false,
     "start_time": "2023-03-31T17:45:03.744997",
     "status": "completed"
    },
    "tags": []
   },
   "outputs": [],
   "source": [
    "kf = KFold(n_splits=5, shuffle=True, random_state=42)"
   ]
  },
  {
   "cell_type": "code",
   "execution_count": 5,
   "id": "a370915a",
   "metadata": {
    "execution": {
     "iopub.execute_input": "2023-03-31T17:45:03.762986Z",
     "iopub.status.busy": "2023-03-31T17:45:03.762035Z",
     "iopub.status.idle": "2023-03-31T17:45:03.766713Z",
     "shell.execute_reply": "2023-03-31T17:45:03.765664Z"
    },
    "papermill": {
     "duration": 0.010312,
     "end_time": "2023-03-31T17:45:03.768920",
     "exception": false,
     "start_time": "2023-03-31T17:45:03.758608",
     "status": "completed"
    },
    "tags": []
   },
   "outputs": [],
   "source": [
    "model = LinearRegression()"
   ]
  },
  {
   "cell_type": "code",
   "execution_count": 6,
   "id": "5b3dda61",
   "metadata": {
    "execution": {
     "iopub.execute_input": "2023-03-31T17:45:03.775745Z",
     "iopub.status.busy": "2023-03-31T17:45:03.774877Z",
     "iopub.status.idle": "2023-03-31T17:45:03.801808Z",
     "shell.execute_reply": "2023-03-31T17:45:03.800924Z"
    },
    "papermill": {
     "duration": 0.032936,
     "end_time": "2023-03-31T17:45:03.804430",
     "exception": false,
     "start_time": "2023-03-31T17:45:03.771494",
     "status": "completed"
    },
    "tags": []
   },
   "outputs": [],
   "source": [
    "scores = []\n",
    "for train_index, test_index in kf.split(X):\n",
    "    X_train, X_test = X[train_index], X[test_index]\n",
    "    y_train, y_test = y[train_index], y[test_index]\n",
    "    \n",
    "    # Modeli eğit\n",
    "    model.fit(X_train, y_train)\n",
    "    \n",
    "    # Test seti üzerinde tahmin yap ve hata hesapla\n",
    "    y_pred = model.predict(X_test)\n",
    "    score = mean_squared_error(y_test, y_pred)\n",
    "    scores.append(score)"
   ]
  },
  {
   "cell_type": "code",
   "execution_count": 7,
   "id": "89a9a7b9",
   "metadata": {
    "execution": {
     "iopub.execute_input": "2023-03-31T17:45:03.811561Z",
     "iopub.status.busy": "2023-03-31T17:45:03.810920Z",
     "iopub.status.idle": "2023-03-31T17:45:03.815537Z",
     "shell.execute_reply": "2023-03-31T17:45:03.814526Z"
    },
    "papermill": {
     "duration": 0.01046,
     "end_time": "2023-03-31T17:45:03.817754",
     "exception": false,
     "start_time": "2023-03-31T17:45:03.807294",
     "status": "completed"
    },
    "tags": []
   },
   "outputs": [],
   "source": [
    "mean_score = np.mean(scores)"
   ]
  },
  {
   "cell_type": "code",
   "execution_count": 8,
   "id": "0ae84625",
   "metadata": {
    "execution": {
     "iopub.execute_input": "2023-03-31T17:45:03.824433Z",
     "iopub.status.busy": "2023-03-31T17:45:03.823943Z",
     "iopub.status.idle": "2023-03-31T17:45:03.829379Z",
     "shell.execute_reply": "2023-03-31T17:45:03.828576Z"
    },
    "papermill": {
     "duration": 0.011699,
     "end_time": "2023-03-31T17:45:03.832055",
     "exception": false,
     "start_time": "2023-03-31T17:45:03.820356",
     "status": "completed"
    },
    "tags": []
   },
   "outputs": [
    {
     "name": "stdout",
     "output_type": "stream",
     "text": [
      "K-fold cross validation result:  [0.037113794407976915, 0.042877331697643635, 0.05339513046889763, 0.06316425044891773, 0.047794600654438316]\n",
      "Mean Score:  0.04886902153557484\n"
     ]
    }
   ],
   "source": [
    "print(\"K-fold cross validation result: \", scores)\n",
    "print(\"Mean Score: \", mean_score)"
   ]
  }
 ],
 "metadata": {
  "kernelspec": {
   "display_name": "Python 3",
   "language": "python",
   "name": "python3"
  },
  "language_info": {
   "codemirror_mode": {
    "name": "ipython",
    "version": 3
   },
   "file_extension": ".py",
   "mimetype": "text/x-python",
   "name": "python",
   "nbconvert_exporter": "python",
   "pygments_lexer": "ipython3",
   "version": "3.7.12"
  },
  "papermill": {
   "default_parameters": {},
   "duration": 11.639963,
   "end_time": "2023-03-31T17:45:04.555710",
   "environment_variables": {},
   "exception": null,
   "input_path": "__notebook__.ipynb",
   "output_path": "__notebook__.ipynb",
   "parameters": {},
   "start_time": "2023-03-31T17:44:52.915747",
   "version": "2.4.0"
  }
 },
 "nbformat": 4,
 "nbformat_minor": 5
}
