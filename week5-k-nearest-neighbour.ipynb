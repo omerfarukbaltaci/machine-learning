{
 "cells": [
  {
   "cell_type": "code",
   "execution_count": 1,
   "id": "728a9690",
   "metadata": {
    "execution": {
     "iopub.execute_input": "2023-03-31T17:38:53.294039Z",
     "iopub.status.busy": "2023-03-31T17:38:53.293415Z",
     "iopub.status.idle": "2023-03-31T17:38:54.652800Z",
     "shell.execute_reply": "2023-03-31T17:38:54.650769Z"
    },
    "id": "Jjo_W1tLDqcJ",
    "outputId": "a2995f5a-982d-4d8c-c674-c9735ce1c439",
    "papermill": {
     "duration": 1.370513,
     "end_time": "2023-03-31T17:38:54.655268",
     "exception": true,
     "start_time": "2023-03-31T17:38:53.284755",
     "status": "failed"
    },
    "tags": []
   },
   "outputs": [
    {
     "ename": "ModuleNotFoundError",
     "evalue": "No module named 'google.colab'",
     "output_type": "error",
     "traceback": [
      "\u001b[0;31m---------------------------------------------------------------------------\u001b[0m",
      "\u001b[0;31mModuleNotFoundError\u001b[0m                       Traceback (most recent call last)",
      "\u001b[0;32m/tmp/ipykernel_19/490158241.py\u001b[0m in \u001b[0;36m<module>\u001b[0;34m\u001b[0m\n\u001b[1;32m      4\u001b[0m \u001b[0;32mimport\u001b[0m \u001b[0mseaborn\u001b[0m \u001b[0;32mas\u001b[0m \u001b[0msns\u001b[0m\u001b[0;34m\u001b[0m\u001b[0;34m\u001b[0m\u001b[0m\n\u001b[1;32m      5\u001b[0m \u001b[0;34m\u001b[0m\u001b[0m\n\u001b[0;32m----> 6\u001b[0;31m \u001b[0;32mfrom\u001b[0m \u001b[0mgoogle\u001b[0m\u001b[0;34m.\u001b[0m\u001b[0mcolab\u001b[0m \u001b[0;32mimport\u001b[0m \u001b[0mdrive\u001b[0m\u001b[0;34m\u001b[0m\u001b[0;34m\u001b[0m\u001b[0m\n\u001b[0m\u001b[1;32m      7\u001b[0m \u001b[0mdrive\u001b[0m\u001b[0;34m.\u001b[0m\u001b[0mmount\u001b[0m\u001b[0;34m(\u001b[0m\u001b[0;34m'/content/drive'\u001b[0m\u001b[0;34m)\u001b[0m\u001b[0;34m\u001b[0m\u001b[0;34m\u001b[0m\u001b[0m\n",
      "\u001b[0;31mModuleNotFoundError\u001b[0m: No module named 'google.colab'"
     ]
    }
   ],
   "source": [
    "import pandas as pd\n",
    "import matplotlib.pyplot as plt\n",
    "import numpy as np\n",
    "import seaborn as sns\n",
    "\n",
    "from google.colab import drive\n",
    "drive.mount('/content/drive')"
   ]
  },
  {
   "cell_type": "code",
   "execution_count": null,
   "id": "a5103ea9",
   "metadata": {
    "id": "OWIiJsaBEWwb",
    "papermill": {
     "duration": null,
     "end_time": null,
     "exception": null,
     "start_time": null,
     "status": "pending"
    },
    "tags": []
   },
   "outputs": [],
   "source": [
    "data = pd.read_csv(\"/content/drive/MyDrive/data/data.csv\")"
   ]
  },
  {
   "cell_type": "code",
   "execution_count": null,
   "id": "d421956e",
   "metadata": {
    "id": "UWY1lyrdEeqv",
    "outputId": "8488e36a-8025-42c4-9d4b-49923e44f3ae",
    "papermill": {
     "duration": null,
     "end_time": null,
     "exception": null,
     "start_time": null,
     "status": "pending"
    },
    "tags": []
   },
   "outputs": [],
   "source": [
    "data.head() "
   ]
  },
  {
   "cell_type": "code",
   "execution_count": null,
   "id": "114acef4",
   "metadata": {
    "id": "xlCIDkH5EwXU",
    "outputId": "0c278faa-d9c7-421d-a9e0-4b32c4b4b795",
    "papermill": {
     "duration": null,
     "end_time": null,
     "exception": null,
     "start_time": null,
     "status": "pending"
    },
    "tags": []
   },
   "outputs": [],
   "source": [
    "data.info()"
   ]
  },
  {
   "cell_type": "code",
   "execution_count": null,
   "id": "7b14aedb",
   "metadata": {
    "id": "tdqFo_iHhw4g",
    "papermill": {
     "duration": null,
     "end_time": null,
     "exception": null,
     "start_time": null,
     "status": "pending"
    },
    "tags": []
   },
   "outputs": [],
   "source": [
    "data.drop([\"Unnamed: 32\",\"id\"],axis=1, inplace=True)\n"
   ]
  },
  {
   "cell_type": "code",
   "execution_count": null,
   "id": "1676eaf0",
   "metadata": {
    "id": "hOnFGmDuE5Yv",
    "papermill": {
     "duration": null,
     "end_time": null,
     "exception": null,
     "start_time": null,
     "status": "pending"
    },
    "tags": []
   },
   "outputs": [],
   "source": [
    "M = data[data.diagnosis==\"M\"]\n",
    "B = data[data.diagnosis==\"B\"]"
   ]
  },
  {
   "cell_type": "code",
   "execution_count": null,
   "id": "3d402f65",
   "metadata": {
    "id": "2g6zQ54qFHAD",
    "outputId": "1f02ee5e-115b-44d4-9eab-dac6883731a3",
    "papermill": {
     "duration": null,
     "end_time": null,
     "exception": null,
     "start_time": null,
     "status": "pending"
    },
    "tags": []
   },
   "outputs": [],
   "source": [
    "M.info()"
   ]
  },
  {
   "cell_type": "code",
   "execution_count": null,
   "id": "c08a8d3c",
   "metadata": {
    "id": "YJzetM22FNQR",
    "outputId": "92684879-8601-46a9-8d38-21639962dcf5",
    "papermill": {
     "duration": null,
     "end_time": null,
     "exception": null,
     "start_time": null,
     "status": "pending"
    },
    "tags": []
   },
   "outputs": [],
   "source": [
    "B.info()"
   ]
  },
  {
   "cell_type": "markdown",
   "id": "29070194",
   "metadata": {
    "id": "SNLNgy9AK229",
    "papermill": {
     "duration": null,
     "end_time": null,
     "exception": null,
     "start_time": null,
     "status": "pending"
    },
    "tags": []
   },
   "source": [
    "iyi huylu ve kötü huylu tümör ayrıldığında 357 iyi huylu tümör, 212 kötü huylu tümör olduğu görülür."
   ]
  },
  {
   "cell_type": "code",
   "execution_count": null,
   "id": "91c48308",
   "metadata": {
    "id": "DKey27ZmKqUs",
    "outputId": "f2df9ed5-c513-45b6-9677-d56689e64e01",
    "papermill": {
     "duration": null,
     "end_time": null,
     "exception": null,
     "start_time": null,
     "status": "pending"
    },
    "tags": []
   },
   "outputs": [],
   "source": [
    "plt.scatter(M.radius_mean,M.area_mean,color=\"red\",label=\"malignant\")\n",
    "plt.scatter(B.radius_mean,B.area_mean,color=\"green\",label=\"benign\")\n",
    "plt.legend() \n",
    "plt.xlabel(\"radius_mean\")\n",
    "plt.ylabel(\"area_mean\")\n",
    "plt.show()"
   ]
  },
  {
   "cell_type": "code",
   "execution_count": null,
   "id": "c4061910",
   "metadata": {
    "id": "0DK5QH4J9FLD",
    "outputId": "6790b6e4-c893-455b-d595-53c2acb0220d",
    "papermill": {
     "duration": null,
     "end_time": null,
     "exception": null,
     "start_time": null,
     "status": "pending"
    },
    "tags": []
   },
   "outputs": [],
   "source": [
    "plt.scatter(M.radius_mean,M.texture_mean,color=\"red\",label=\"malignant\") \n",
    "plt.scatter(B.radius_mean,B.texture_mean,color=\"green\",label=\"benign\")\n",
    "plt.xlabel(\"radius_mean\")\n",
    "plt.ylabel(\"texture_mean\")\n",
    "plt.legend()\n",
    "plt.show()"
   ]
  },
  {
   "cell_type": "markdown",
   "id": "5c35a664",
   "metadata": {
    "id": "K-PY6dLZ9c3I",
    "papermill": {
     "duration": null,
     "end_time": null,
     "exception": null,
     "start_time": null,
     "status": "pending"
    },
    "tags": []
   },
   "source": [
    "texture_mean ve radius_mean kullanılarak classify yapılacaktır."
   ]
  },
  {
   "cell_type": "code",
   "execution_count": null,
   "id": "95196986",
   "metadata": {
    "id": "e9hPDJw7BrIU",
    "papermill": {
     "duration": null,
     "end_time": null,
     "exception": null,
     "start_time": null,
     "status": "pending"
    },
    "tags": []
   },
   "outputs": [],
   "source": [
    "data.diagnosis = [1 if each==\"M\" else 0 for each in data.diagnosis] "
   ]
  },
  {
   "cell_type": "code",
   "execution_count": null,
   "id": "bbf6b780",
   "metadata": {
    "id": "fYUzdYN1K5V3",
    "papermill": {
     "duration": null,
     "end_time": null,
     "exception": null,
     "start_time": null,
     "status": "pending"
    },
    "tags": []
   },
   "outputs": [],
   "source": [
    "y = data.diagnosis.values"
   ]
  },
  {
   "cell_type": "code",
   "execution_count": null,
   "id": "88077f49",
   "metadata": {
    "id": "RosXgpbXK60R",
    "papermill": {
     "duration": null,
     "end_time": null,
     "exception": null,
     "start_time": null,
     "status": "pending"
    },
    "tags": []
   },
   "outputs": [],
   "source": [
    "x_data= data.iloc[:,1:3].values"
   ]
  },
  {
   "cell_type": "code",
   "execution_count": null,
   "id": "85aa85a1",
   "metadata": {
    "id": "ZAuG4WlEIC0t",
    "papermill": {
     "duration": null,
     "end_time": null,
     "exception": null,
     "start_time": null,
     "status": "pending"
    },
    "tags": []
   },
   "outputs": [],
   "source": [
    "x = (x_data - np.min(x_data))/(np.max(x_data) - np.min(x_data))"
   ]
  },
  {
   "cell_type": "code",
   "execution_count": null,
   "id": "61950dab",
   "metadata": {
    "id": "wGGOGDJuIKWP",
    "papermill": {
     "duration": null,
     "end_time": null,
     "exception": null,
     "start_time": null,
     "status": "pending"
    },
    "tags": []
   },
   "outputs": [],
   "source": [
    "from sklearn.model_selection import train_test_split\n",
    "x_train, x_test, y_train, y_test = train_test_split(x,y,test_size=0.3,random_state=1)\n"
   ]
  },
  {
   "cell_type": "code",
   "execution_count": null,
   "id": "5ff5fe81",
   "metadata": {
    "id": "LkWbJ33sMxtK",
    "outputId": "b26b0a3f-306f-4e6e-8e17-f59085924f86",
    "papermill": {
     "duration": null,
     "end_time": null,
     "exception": null,
     "start_time": null,
     "status": "pending"
    },
    "tags": []
   },
   "outputs": [],
   "source": [
    "from sklearn.neighbors import KNeighborsClassifier\n",
    "knn = KNeighborsClassifier(n_neighbors = 3)\n",
    "knn.fit(x_train,y_train)"
   ]
  },
  {
   "cell_type": "code",
   "execution_count": null,
   "id": "e0bd51f4",
   "metadata": {
    "id": "i78CPEvlM4pD",
    "outputId": "bfaa3816-e3e0-4ddd-ddef-3b4d3788b994",
    "papermill": {
     "duration": null,
     "end_time": null,
     "exception": null,
     "start_time": null,
     "status": "pending"
    },
    "tags": []
   },
   "outputs": [],
   "source": [
    "y_head = knn.predict(x_test)\n",
    "y_head"
   ]
  },
  {
   "cell_type": "code",
   "execution_count": null,
   "id": "c8b4b1cd",
   "metadata": {
    "id": "Wv8D2wwSOkKB",
    "outputId": "fcc4cab5-eca5-4d10-9f7d-d384aa61202a",
    "papermill": {
     "duration": null,
     "end_time": null,
     "exception": null,
     "start_time": null,
     "status": "pending"
    },
    "tags": []
   },
   "outputs": [],
   "source": [
    "print(\"when k is {}, accuracy of knn classification {} \".format(3,knn.score(x_test,y_test)))"
   ]
  },
  {
   "cell_type": "code",
   "execution_count": null,
   "id": "63300e6c",
   "metadata": {
    "id": "qYc4yikUNBP7",
    "outputId": "ed6cc139-aa1f-40d3-eafb-0b4098a4e44d",
    "papermill": {
     "duration": null,
     "end_time": null,
     "exception": null,
     "start_time": null,
     "status": "pending"
    },
    "tags": []
   },
   "outputs": [],
   "source": [
    "# find k value\n",
    "test_accuracy = []\n",
    "for each in range(1,15):\n",
    "    knn2 = KNeighborsClassifier(n_neighbors = each)\n",
    "    knn2.fit(x_train,y_train)\n",
    "    test_accuracy.append(knn2.score(x_test,y_test))\n",
    "    \n",
    "plt.figure(figsize=(5,5))\n",
    "plt.plot(range(1,15),test_accuracy)\n",
    "plt.title('K Values VS Accuracy')\n",
    "plt.xlabel(\"k values\")\n",
    "plt.ylabel(\"accuracy\")\n",
    "plt.grid()\n",
    "plt.show()\n",
    "print(\"Best accuracy is {} with K = {}\".format(np.max(test_accuracy),1+test_accuracy.index(np.max(test_accuracy))))"
   ]
  },
  {
   "cell_type": "code",
   "execution_count": null,
   "id": "3790c99f",
   "metadata": {
    "id": "K5qowvW0MIbp",
    "outputId": "599b0482-6a0a-42a8-f561-6ed1e8082b68",
    "papermill": {
     "duration": null,
     "end_time": null,
     "exception": null,
     "start_time": null,
     "status": "pending"
    },
    "tags": []
   },
   "outputs": [],
   "source": [
    "error = []\n",
    "for i in range (1,40):\n",
    "  knn= KNeighborsClassifier(n_neighbors=i)\n",
    "  knn.fit(x_train,y_train)\n",
    "  pred_i = knn.predict(x_test)\n",
    "  error.append(np.mean(pred_i != y_test))\n",
    "\n",
    "plt.figure(figsize=(12,6))\n",
    "plt.plot(range(1,40), error, color='red',linestyle='dashed',marker='o',markerfacecolor='blue',markersize=10)\n",
    "plt.title('Error Rate K Value')\n",
    "plt.xlabel('K Value')\n",
    "plt.ylabel('Mean Error')\n",
    "plt.grid()\n",
    "plt.show()"
   ]
  },
  {
   "cell_type": "code",
   "execution_count": null,
   "id": "e8da6b57",
   "metadata": {
    "id": "cmACHU_4O8F2",
    "papermill": {
     "duration": null,
     "end_time": null,
     "exception": null,
     "start_time": null,
     "status": "pending"
    },
    "tags": []
   },
   "outputs": [],
   "source": [
    "#confusion matrix\n",
    "from sklearn.metrics import confusion_matrix\n",
    "cm = confusion_matrix(y_test, y_head)"
   ]
  },
  {
   "cell_type": "code",
   "execution_count": null,
   "id": "6523b95f",
   "metadata": {
    "id": "BPJqf-6DPBQQ",
    "outputId": "ec3a3bb6-afef-4eda-f7c8-d9725871cc86",
    "papermill": {
     "duration": null,
     "end_time": null,
     "exception": null,
     "start_time": null,
     "status": "pending"
    },
    "tags": []
   },
   "outputs": [],
   "source": [
    "f,ax = plt.subplots(figsize=(5, 5))\n",
    "sns.heatmap(cm,annot=True,fmt= '.0f',linewidths=0.5,linecolor=\"red\",ax=ax)\n",
    "plt.xlabel(\"y_pred\")\n",
    "plt.ylabel(\"y_test\")\n",
    "plt.show()"
   ]
  }
 ],
 "metadata": {
  "kernelspec": {
   "display_name": "Python 3",
   "language": "python",
   "name": "python3"
  },
  "language_info": {
   "codemirror_mode": {
    "name": "ipython",
    "version": 3
   },
   "file_extension": ".py",
   "mimetype": "text/x-python",
   "name": "python",
   "nbconvert_exporter": "python",
   "pygments_lexer": "ipython3",
   "version": "3.7.12"
  },
  "papermill": {
   "default_parameters": {},
   "duration": 13.627461,
   "end_time": "2023-03-31T17:38:55.384260",
   "environment_variables": {},
   "exception": true,
   "input_path": "__notebook__.ipynb",
   "output_path": "__notebook__.ipynb",
   "parameters": {},
   "start_time": "2023-03-31T17:38:41.756799",
   "version": "2.4.0"
  }
 },
 "nbformat": 4,
 "nbformat_minor": 5
}
